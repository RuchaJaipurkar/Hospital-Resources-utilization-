{
 "cells": [
  {
   "cell_type": "markdown",
   "id": "c3e656da-3560-4554-838c-3ea09d0ecc1e",
   "metadata": {},
   "source": [
    "# Hospital Resource Utilization Project\n",
    "# Analyze hospital resource utilization data to optimize bed occupancy, staff scheduling, and equipment usage. This project will identify under/over-utilized resources and recommend adjustments to improve efficiency."
   ]
  },
  {
   "cell_type": "code",
   "execution_count": 8,
   "id": "3f143f91-42f5-40d6-ac8d-d0697c82dc76",
   "metadata": {},
   "outputs": [],
   "source": [
    "import pandas as pd"
   ]
  },
  {
   "cell_type": "code",
   "execution_count": 9,
   "id": "6f6e4b0b-724d-4394-b679-7b7680ef3ecf",
   "metadata": {},
   "outputs": [],
   "source": [
    "# Load the dataset\n",
    "hospital_data = pd.read_csv('hospital_resource_utilization.csv')"
   ]
  },
  {
   "cell_type": "code",
   "execution_count": 10,
   "id": "45095cfa-b4fb-457b-b2c9-34753c91fa4d",
   "metadata": {},
   "outputs": [
    {
     "name": "stdout",
     "output_type": "stream",
     "text": [
      "         Date  Department  Beds_Available  Beds_Occupied  Staff_Scheduled  \\\n",
      "0  2024-01-01   Emergency              10              2                5   \n",
      "1  2024-01-02     General               7             16               11   \n",
      "2  2024-01-03         ICU              29             26               12   \n",
      "3  2024-01-04  Pediatrics              44             43               17   \n",
      "4  2024-01-05     Surgery              30             37                9   \n",
      "\n",
      "   Staff_Required   Equipment  Equipment_Usage_Hours  \n",
      "0              14       X-ray                   2.40  \n",
      "1              14       X-ray                   6.40  \n",
      "2               5  Ultrasound                  11.63  \n",
      "3               8       X-ray                   8.34  \n",
      "4              11  Ventilator                  11.28  \n"
     ]
    }
   ],
   "source": [
    "# View the first few rows\n",
    "print(hospital_data.head())"
   ]
  },
  {
   "cell_type": "code",
   "execution_count": 11,
   "id": "51888930-aac7-46e6-9549-7cc6b2c83d16",
   "metadata": {},
   "outputs": [
    {
     "name": "stdout",
     "output_type": "stream",
     "text": [
      "Date                     0\n",
      "Department               0\n",
      "Beds_Available           0\n",
      "Beds_Occupied            0\n",
      "Staff_Scheduled          0\n",
      "Staff_Required           0\n",
      "Equipment                0\n",
      "Equipment_Usage_Hours    0\n",
      "dtype: int64\n"
     ]
    },
    {
     "name": "stderr",
     "output_type": "stream",
     "text": [
      "C:\\Users\\Prince Modi\\AppData\\Local\\Temp\\ipykernel_25748\\1614222905.py:5: FutureWarning: DataFrame.fillna with 'method' is deprecated and will raise in a future version. Use obj.ffill() or obj.bfill() instead.\n",
      "  hospital_data.fillna(method='ffill', inplace=True)\n"
     ]
    }
   ],
   "source": [
    "# Check for missing data\n",
    "print(hospital_data.isnull().sum())\n",
    "\n",
    "# Optionally, fill missing data (if applicable)\n",
    "hospital_data.fillna(method='ffill', inplace=True)\n"
   ]
  },
  {
   "cell_type": "code",
   "execution_count": 12,
   "id": "0c6e3510-77e9-4ecd-ba18-62b74d645dc8",
   "metadata": {},
   "outputs": [
    {
     "name": "stdout",
     "output_type": "stream",
     "text": [
      "Department\n",
      "Emergency     1.590657\n",
      "General       1.818135\n",
      "ICU           1.287979\n",
      "Pediatrics    1.106462\n",
      "Surgery       1.388818\n",
      "Name: Bed_Occupancy_Rate, dtype: float64\n"
     ]
    }
   ],
   "source": [
    "# Calculate the Bed Occupancy Rate\n",
    "hospital_data['Bed_Occupancy_Rate'] = hospital_data['Beds_Occupied'] / hospital_data['Beds_Available']\n",
    "\n",
    "# Average occupancy rate by department\n",
    "occupancy_by_department = hospital_data.groupby('Department')['Bed_Occupancy_Rate'].mean()\n",
    "print(occupancy_by_department)\n",
    "\n"
   ]
  },
  {
   "cell_type": "code",
   "execution_count": 13,
   "id": "179383fb-3fc0-479f-84a7-59e60b38da73",
   "metadata": {},
   "outputs": [
    {
     "name": "stdout",
     "output_type": "stream",
     "text": [
      "Department\n",
      "Emergency     1.313282\n",
      "General       1.147861\n",
      "ICU           1.276549\n",
      "Pediatrics    1.134151\n",
      "Surgery       1.132470\n",
      "Name: Staff_Efficiency, dtype: float64\n"
     ]
    }
   ],
   "source": [
    "# Calculate Staff Scheduling Efficiency\n",
    "hospital_data['Staff_Efficiency'] = hospital_data['Staff_Scheduled'] / hospital_data['Staff_Required']\n",
    "\n",
    "# Average staff efficiency by department\n",
    "staff_efficiency_by_department = hospital_data.groupby('Department')['Staff_Efficiency'].mean()\n",
    "print(staff_efficiency_by_department)\n"
   ]
  },
  {
   "cell_type": "code",
   "execution_count": 14,
   "id": "a064d89f-dc9b-4fa3-ad18-bf3156d4606b",
   "metadata": {},
   "outputs": [
    {
     "name": "stdout",
     "output_type": "stream",
     "text": [
      "Equipment\n",
      "ECG           6.107647\n",
      "MRI           6.701951\n",
      "Ultrasound    6.950455\n",
      "Ventilator    6.580769\n",
      "X-ray         6.069048\n",
      "Name: Equipment_Usage_Hours, dtype: float64\n"
     ]
    }
   ],
   "source": [
    "# Average Equipment Usage\n",
    "equipment_usage = hospital_data.groupby('Equipment')['Equipment_Usage_Hours'].mean()\n",
    "print(equipment_usage)\n"
   ]
  },
  {
   "cell_type": "code",
   "execution_count": 5,
   "id": "c7d0e808-a26d-4d81-af72-f4366a5e0c45",
   "metadata": {},
   "outputs": [
    {
     "name": "stdout",
     "output_type": "stream",
     "text": [
      "Department\n",
      "Emergency     1.313282\n",
      "General       1.147861\n",
      "ICU           1.276549\n",
      "Pediatrics    1.134151\n",
      "Surgery       1.132470\n",
      "Name: Staff_Efficiency, dtype: float64\n"
     ]
    }
   ],
   "source": [
    "# Calculate staffing efficiency\n",
    "hospital_data['Staff_Efficiency'] = hospital_data['Staff_Scheduled'] / hospital_data['Staff_Required']\n",
    "\n",
    "# Get the mean staff efficiency by department\n",
    "staff_efficiency_by_department = hospital_data.groupby('Department')['Staff_Efficiency'].mean()\n",
    "print(staff_efficiency_by_department)\n"
   ]
  },
  {
   "cell_type": "code",
   "execution_count": 6,
   "id": "dc55fdf8-b6e1-4856-a3a9-edaadf1d2b53",
   "metadata": {},
   "outputs": [
    {
     "name": "stdout",
     "output_type": "stream",
     "text": [
      "Equipment\n",
      "ECG           6.107647\n",
      "MRI           6.701951\n",
      "Ultrasound    6.950455\n",
      "Ventilator    6.580769\n",
      "X-ray         6.069048\n",
      "Name: Equipment_Usage_Hours, dtype: float64\n"
     ]
    }
   ],
   "source": [
    "# Get the average usage of equipment by type\n",
    "equipment_usage = hospital_data.groupby('Equipment')['Equipment_Usage_Hours'].mean()\n",
    "print(equipment_usage)\n"
   ]
  },
  {
   "cell_type": "code",
   "execution_count": null,
   "id": "a9927166-e2b0-4859-82b7-1c321df6f755",
   "metadata": {},
   "outputs": [],
   "source": []
  }
 ],
 "metadata": {
  "kernelspec": {
   "display_name": "Python 3 (ipykernel)",
   "language": "python",
   "name": "python3"
  },
  "language_info": {
   "codemirror_mode": {
    "name": "ipython",
    "version": 3
   },
   "file_extension": ".py",
   "mimetype": "text/x-python",
   "name": "python",
   "nbconvert_exporter": "python",
   "pygments_lexer": "ipython3",
   "version": "3.12.3"
  }
 },
 "nbformat": 4,
 "nbformat_minor": 5
}
